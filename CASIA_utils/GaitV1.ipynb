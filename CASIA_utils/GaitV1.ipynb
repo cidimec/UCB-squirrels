{
 "cells": [
  {
   "cell_type": "markdown",
   "metadata": {
    "id": "--fcQsUdjkQh"
   },
   "source": [
    "# GAIT RECOGNITION"
   ]
  },
  {
   "cell_type": "markdown",
   "metadata": {
    "id": "2uVInsJCKYz0"
   },
   "source": [
    "## 1. Data preparation"
   ]
  },
  {
   "cell_type": "markdown",
   "metadata": {
    "id": "MkJLiBwWJ8gh"
   },
   "source": [
    "Let's create some directories"
   ]
  },
  {
   "cell_type": "code",
   "execution_count": 1,
   "metadata": {
    "executionInfo": {
     "elapsed": 343,
     "status": "ok",
     "timestamp": 1625333284039,
     "user": {
      "displayName": "Israel Raul Tiñini Alvarez",
      "photoUrl": "https://lh3.googleusercontent.com/a-/AOh14Ggcd153u0HTe59CG_9NBCbFMlk8FTzoquHvRypzUw=s64",
      "userId": "04740316190220229310"
     },
     "user_tz": 240
    },
    "id": "6C8K4rnqcxfX"
   },
   "outputs": [],
   "source": []
  },
  {
   "cell_type": "markdown",
   "metadata": {
    "id": "awMojkOpckve"
   },
   "source": [
    "\n",
    "Download and unzip the CASIA-B dataset.\n",
    "**********************\n",
    "IMPORTANT!!!\n",
    "\n",
    "Replace these cells. The images have to be in the `CASIA/DatasetB/silhouettes/` directory\n",
    "**********************\n"
   ]
  },
  {
   "cell_type": "code",
   "execution_count": 2,
   "metadata": {
    "executionInfo": {
     "elapsed": 14319,
     "status": "ok",
     "timestamp": 1625333305925,
     "user": {
      "displayName": "Israel Raul Tiñini Alvarez",
      "photoUrl": "https://lh3.googleusercontent.com/a-/AOh14Ggcd153u0HTe59CG_9NBCbFMlk8FTzoquHvRypzUw=s64",
      "userId": "04740316190220229310"
     },
     "user_tz": 240
    },
    "id": "tdPq0dNqccds"
   },
   "outputs": [],
   "source": [
    "# The following code will let us get our dataset in raw format, so it will be necessary to preprocess it (croping and normalization)\n",
    "%%capture\n",
    "!git clone https://github.com/chentinghao/download_google_drive.git\n",
    "!python ./download_google_drive/download_gdrive.py 1Lx1Ltc7UiDjTDXjMjW9tFdgwtR64dhuh GaitDatasetB-silh.zip\n",
    "!unzip GaitDatasetB-silh.zip\n",
    "print('Data Extracted')"
   ]
  },
  {
   "cell_type": "code",
   "execution_count": 3,
   "metadata": {
    "colab": {
     "base_uri": "https://localhost:8080/"
    },
    "executionInfo": {
     "elapsed": 309,
     "status": "ok",
     "timestamp": 1625333338671,
     "user": {
      "displayName": "Israel Raul Tiñini Alvarez",
      "photoUrl": "https://lh3.googleusercontent.com/a-/AOh14Ggcd153u0HTe59CG_9NBCbFMlk8FTzoquHvRypzUw=s64",
      "userId": "04740316190220229310"
     },
     "user_tz": 240
    },
    "id": "esKgp7m-1ZXO",
    "outputId": "eb2eac97-ce3a-470f-dbe7-07000a8cc32e"
   },
   "outputs": [
    {
     "name": "stdout",
     "output_type": "stream",
     "text": [
      "unzip:  cannot find or open CASIA/DatasetB/silhouettes/GaitDatasetB-silh.zip, CASIA/DatasetB/silhouettes/GaitDatasetB-silh.zip.zip or CASIA/DatasetB/silhouettes/GaitDatasetB-silh.zip.ZIP.\n"
     ]
    }
   ],
   "source": [
    "!unzip CASIA/DatasetB/silhouettes/GaitDatasetB-silh.zip -d CASIA/DatasetB/silhouettes/"
   ]
  },
  {
   "cell_type": "markdown",
   "metadata": {
    "id": "8OrUbQXfo9Ze"
   },
   "source": [
    "# ! unzip GaitDatasetB-silh.zip\n",
    "!mkdir CASIA/\n",
    "!mkdir CASIA/DatasetB\n",
    "!mkdir CASIA/DatasetB/silhouettes\n",
    "!mkdir GEI GEnI data_100_100\n",
    "!mkdir CASIA/sil"
   ]
  },
  {
   "cell_type": "code",
   "execution_count": 1,
   "metadata": {
    "executionInfo": {
     "elapsed": 334,
     "status": "ok",
     "timestamp": 1625333357093,
     "user": {
      "displayName": "Israel Raul Tiñini Alvarez",
      "photoUrl": "https://lh3.googleusercontent.com/a-/AOh14Ggcd153u0HTe59CG_9NBCbFMlk8FTzoquHvRypzUw=s64",
      "userId": "04740316190220229310"
     },
     "user_tz": 240
    },
    "id": "dGpYn3C-o-ix"
   },
   "outputs": [],
   "source": [
    "import tarfile\n",
    "from glob import glob\n",
    "import shutil\n",
    "import os"
   ]
  },
  {
   "cell_type": "code",
   "execution_count": 2,
   "metadata": {},
   "outputs": [],
   "source": [
    "def create_dir(folder, force=True, verbose=False):\n",
    "    '''   Create a directory if it doesn't exist  '''\n",
    "    try:\n",
    "        os.makedirs(folder)\n",
    "        if verbose: print('Directory {} created succesfully.'.format(folder))   \n",
    "    except:\n",
    "        if force:\n",
    "            if verbose: print('{} already exists. Creating a new one'.format(folder))\n",
    "            shutil.rmtree(folder)\n",
    "            os.makedirs(folder)\n",
    "        else:\n",
    "            if verbose: print('{} already exists.'.format(folder))\n",
    "            pass"
   ]
  },
  {
   "cell_type": "code",
   "execution_count": 3,
   "metadata": {},
   "outputs": [],
   "source": [
    "partA = 'DatasetB-1/silhouettes/'\n",
    "partB = 'DatasetB-2/silhouettes/'\n",
    "silhouettes_dir = 'silhouettes/'\n",
    "# define the path of CASIA directory\n",
    "CASIA_dir = '/home/israel/Downloads/CASIA/'"
   ]
  },
  {
   "cell_type": "code",
   "execution_count": 4,
   "metadata": {
    "colab": {
     "base_uri": "https://localhost:8080/"
    },
    "executionInfo": {
     "elapsed": 285582,
     "status": "ok",
     "timestamp": 1625333644926,
     "user": {
      "displayName": "Israel Raul Tiñini Alvarez",
      "photoUrl": "https://lh3.googleusercontent.com/a-/AOh14Ggcd153u0HTe59CG_9NBCbFMlk8FTzoquHvRypzUw=s64",
      "userId": "04740316190220229310"
     },
     "user_tz": 240
    },
    "id": "Qw63Uhhie5_J",
    "outputId": "b5311233-657a-430d-adfa-45949937d1ca"
   },
   "outputs": [
    {
     "name": "stdout",
     "output_type": "stream",
     "text": [
      "Extracting Subject:050...\n",
      "Extracting Subject:060...\n",
      "Extracting Subject:070...\n",
      "Extracting Subject:080...\n",
      "Extracting Subject:090...\n",
      "Extracting Subject:100...\n",
      "Extracting Subject:110...\n",
      "Extracting Subject:120...\n"
     ]
    }
   ],
   "source": [
    "from glob import glob\n",
    "for i in range(50, 125):\n",
    "    part = partA if i<63 else partB\n",
    "    if(i%10 == 0):\n",
    "        print('Extracting Subject:'+str(i).zfill(3)+ '...')\n",
    "    tf = tarfile.open(os.path.join(CASIA_dir, part, f'{str(i).zfill(3)}.tar.gz'))\n",
    "    tf.extractall(os.path.join(CASIA_dir, silhouettes_dir))"
   ]
  },
  {
   "cell_type": "markdown",
   "metadata": {
    "id": "mK-LFueYkoGx"
   },
   "source": [
    "## 2. FEATURE NORMALIZATION"
   ]
  },
  {
   "cell_type": "code",
   "execution_count": 5,
   "metadata": {},
   "outputs": [],
   "source": [
    "import numpy as np\n",
    "from os import listdir\n",
    "import cv2\n",
    "import os\n",
    "from glob import glob\n",
    "import time\n",
    "import matplotlib.pyplot as plt"
   ]
  },
  {
   "cell_type": "markdown",
   "metadata": {},
   "source": [
    "Let's define some functions to process the contours"
   ]
  },
  {
   "cell_type": "code",
   "execution_count": 6,
   "metadata": {},
   "outputs": [],
   "source": [
    "def find_if_close(cnt1,cnt2):\n",
    "    row1,row2 = cnt1.shape[0],cnt2.shape[0]\n",
    "    for i in range(row1):\n",
    "        for j in range(row2):\n",
    "            dist = np.linalg.norm(cnt1[i]-cnt2[j])\n",
    "            if abs(dist) < 40 :\n",
    "                return True\n",
    "            elif i==row1-1 and j==row2-1:\n",
    "                return False\n",
    "\n",
    "\n",
    "def joincontours(contours,thresh):\n",
    "    LENGTH = len(contours)\n",
    "    status = np.zeros((LENGTH,1))\n",
    "\n",
    "    for i,cnt1 in enumerate(contours):\n",
    "        x = i    \n",
    "        if i != LENGTH-1:\n",
    "            for j,cnt2 in enumerate(contours[i+1:]):\n",
    "                x = x+1\n",
    "                dist = find_if_close(cnt1,cnt2)\n",
    "                if dist == True:\n",
    "                    val = min(status[i],status[x])\n",
    "                    status[x] = status[i] = val\n",
    "                else:\n",
    "                    if status[x]==status[i]:\n",
    "                        status[x] = i+1\n",
    "\n",
    "    unified = []\n",
    "    maximum = int(status.max())+1\n",
    "    for i in range(maximum):\n",
    "        pos = np.where(status==i)[0]\n",
    "        if pos.size != 0:\n",
    "            cont = np.vstack(contours[i] for i in pos)\n",
    "            hull = cv2.convexHull(cont)\n",
    "            unified.append(hull)\n",
    "\n",
    "    cv2.drawContours(thresh,unified,-1,255,-1)\n",
    "    return thresh"
   ]
  },
  {
   "cell_type": "code",
   "execution_count": 7,
   "metadata": {},
   "outputs": [],
   "source": [
    "from IPython.display import clear_output\n",
    "import numpy as np\n",
    "import cv2\n",
    "import os\n",
    "from os import listdir\n",
    "from glob import glob\n",
    "import time\n",
    "import matplotlib.pyplot as plt\n",
    "\n",
    "\n",
    "def GEI_generator(sil_file, size = 64,debug = False):\n",
    "  lfiles = os.listdir(sil_file)\n",
    "  lfiles.sort()\n",
    "  stack_GEI = []\n",
    "  if debug:\n",
    "    plt.figure(figsize=(20,int(len(lfiles)/10)))\n",
    "  for idimg, path in enumerate(lfiles):\n",
    "    if debug: plt.subplot((len(lfiles)/15)+1,15, idimg+1)\n",
    "    img = cv2.imread(sil_file+path,0)\n",
    "    # Silhouette extraction\n",
    "    contours1,_ = cv2.findContours(img.copy(),cv2.RETR_EXTERNAL, cv2.CHAIN_APPROX_SIMPLE)\n",
    "    cv2.drawContours(img,contours1,-1,255,-1)\n",
    "\n",
    "    if (len(contours1)>0):\n",
    "      ncoun= np.concatenate(contours1)[:,0,:]\n",
    "      x1, y1 = np.min(ncoun,axis=0)\n",
    "      x2, y2 = np.max(ncoun,axis=0)\n",
    "      silhouette = img[y1:y2,x1:x2]\n",
    "\n",
    "      # Normalizae silhouette\n",
    "      factor = size/max(silhouette.shape)\n",
    "      height = round(factor*silhouette.shape[0])\n",
    "      width = round(factor*silhouette.shape[1])\n",
    "      if(height>width):\n",
    "        nor_sil = cv2.resize(silhouette,(width,height))\n",
    "#         print(nor_sil.shape)\n",
    "        # We add a background of the shape size x size\n",
    "        portion_body = 0.3                                                      # We take the upper part of the body to center the image and avoid the legs\n",
    "        moments = cv2.moments(nor_sil[0:int(nor_sil.shape[0]*portion_body),])\n",
    "        w = round(moments['m10']/moments['m00'])\n",
    "        background = np.zeros((size, size))\n",
    "        shift = round((size/2)-w)\n",
    "#         print('center:',w,' shift:',shift)\n",
    "        if(shift<0 or shift+nor_sil.shape[1]>size): shift = round((size-nor_sil.shape[1])/2)\n",
    "        background[:,shift:nor_sil.shape[1]+shift] = nor_sil\n",
    "\n",
    "        stack_GEI.append(background)\n",
    "        if debug:\n",
    "          plt.xticks([])\n",
    "          plt.yticks([])\n",
    "          plt.imshow(background,'gray')\n",
    "          # plt.subplots_adjust(wspace=0.05, hspace=0.01)\n",
    "  if stack_GEI == []:\n",
    "    GEI = np.zeros((size, size))\n",
    "    print('\\tNo Files Found')\n",
    "  else: \n",
    "    GEI = np.mean(np.array(stack_GEI),axis=0)\n",
    "    \n",
    "  return GEI, stack_GEI"
   ]
  },
  {
   "cell_type": "code",
   "execution_count": 54,
   "metadata": {},
   "outputs": [],
   "source": [
    "GEI, stack = GEI_generator(rep_sil)"
   ]
  },
  {
   "cell_type": "code",
   "execution_count": 55,
   "metadata": {},
   "outputs": [
    {
     "data": {
      "text/plain": [
       "<matplotlib.image.AxesImage at 0x7f9c62879700>"
      ]
     },
     "execution_count": 55,
     "metadata": {},
     "output_type": "execute_result"
    },
    {
     "data": {
      "image/png": "[encoded data removed]",
      "text/plain": [
       "<Figure size 432x288 with 1 Axes>"
      ]
     },
     "metadata": {
      "needs_background": "light"
     },
     "output_type": "display_data"
    }
   ],
   "source": [
    "plt.imshow(GEI)"
   ]
  },
  {
   "cell_type": "code",
   "execution_count": 8,
   "metadata": {
    "colab": {
     "base_uri": "https://localhost:8080/"
    },
    "executionInfo": {
     "elapsed": 157199,
     "status": "ok",
     "timestamp": 1625334386960,
     "user": {
      "displayName": "Israel Raul Tiñini Alvarez",
      "photoUrl": "https://lh3.googleusercontent.com/a-/AOh14Ggcd153u0HTe59CG_9NBCbFMlk8FTzoquHvRypzUw=s64",
      "userId": "04740316190220229310"
     },
     "user_tz": 240
    },
    "id": "bfupMcJUiq3T",
    "outputId": "50815149-8d10-4375-9a1f-3d4b392d7266",
    "tags": []
   },
   "outputs": [
    {
     "name": "stdout",
     "output_type": "stream",
     "text": [
      "Sujeto : 001\n",
      "Sujeto : 002\n",
      "Sujeto : 003\n",
      "Sujeto : 004\n",
      "Sujeto : 005\n",
      "Sujeto : 006\n",
      "Sujeto : 007\n",
      "Sujeto : 008\n",
      "Sujeto : 009\n",
      "Sujeto : 010\n",
      "Sujeto : 011\n",
      "Sujeto : 012\n",
      "Sujeto : 013\n",
      "Sujeto : 014\n",
      "Sujeto : 015\n",
      "Sujeto : 016\n",
      "Sujeto : 017\n",
      "Sujeto : 018\n",
      "Sujeto : 019\n",
      "Sujeto : 020\n",
      "Sujeto : 021\n",
      "Sujeto : 022\n",
      "Sujeto : 023\n",
      "Sujeto : 024\n",
      "Sujeto : 025\n",
      "Sujeto : 026\n",
      "Sujeto : 027\n",
      "Sujeto : 028\n",
      "Sujeto : 029\n",
      "Sujeto : 030\n",
      "Sujeto : 031\n",
      "Sujeto : 032\n",
      "Sujeto : 033\n",
      "Sujeto : 034\n",
      "Sujeto : 035\n",
      "Sujeto : 036\n",
      "Sujeto : 037\n",
      "Sujeto : 038\n",
      "Sujeto : 039\n",
      "Sujeto : 040\n",
      "Sujeto : 041\n",
      "Sujeto : 042\n",
      "Sujeto : 043\n",
      "Sujeto : 044\n",
      "Sujeto : 045\n",
      "Sujeto : 046\n",
      "Sujeto : 047\n",
      "Sujeto : 048\n",
      "Sujeto : 049\n",
      "Sujeto : 050\n",
      "Sujeto : 051\n",
      "Sujeto : 052\n",
      "Sujeto : 053\n",
      "Sujeto : 054\n",
      "Sujeto : 055\n",
      "Sujeto : 056\n",
      "Sujeto : 057\n",
      "Sujeto : 058\n",
      "Sujeto : 059\n",
      "Sujeto : 060\n",
      "Sujeto : 061\n",
      "Sujeto : 062\n",
      "Sujeto : 063\n",
      "Sujeto : 064\n",
      "Sujeto : 065\n",
      "Sujeto : 066\n",
      "Sujeto : 067\n",
      "Sujeto : 068\n",
      "Sujeto : 069\n",
      "Sujeto : 070\n",
      "Sujeto : 071\n",
      "Sujeto : 072\n",
      "Sujeto : 073\n",
      "Sujeto : 074\n",
      "Sujeto : 075\n",
      "Sujeto : 076\n",
      "Sujeto : 077\n",
      "Sujeto : 078\n",
      "Sujeto : 079\n",
      "Sujeto : 080\n",
      "Sujeto : 081\n",
      "Sujeto : 082\n",
      "Sujeto : 083\n",
      "Sujeto : 084\n",
      "Sujeto : 085\n",
      "Sujeto : 086\n",
      "Sujeto : 087\n",
      "Sujeto : 088\n",
      "Sujeto : 089\n",
      "Sujeto : 090\n",
      "Sujeto : 091\n",
      "Sujeto : 092\n",
      "Sujeto : 093\n",
      "Sujeto : 094\n",
      "Sujeto : 095\n",
      "Sujeto : 096\n",
      "Sujeto : 097\n",
      "Sujeto : 098\n",
      "Sujeto : 099\n",
      "Sujeto : 100\n",
      "Sujeto : 101\n",
      "Sujeto : 102\n",
      "Sujeto : 103\n",
      "Sujeto : 104\n",
      "Sujeto : 105\n",
      "Sujeto : 106\n",
      "Sujeto : 107\n",
      "Sujeto : 108\n",
      "Sujeto : 109\n",
      "Sujeto : 110\n",
      "Sujeto : 111\n",
      "Sujeto : 112\n",
      "Sujeto : 113\n",
      "Sujeto : 114\n",
      "Sujeto : 115\n",
      "Sujeto : 116\n",
      "Sujeto : 117\n",
      "Sujeto : 118\n",
      "Sujeto : 119\n",
      "Sujeto : 120\n",
      "Sujeto : 121\n",
      "Sujeto : 122\n",
      "Sujeto : 123\n",
      "Sujeto : 124\n"
     ]
    }
   ],
   "source": [
    "representation_dir = 'representations/'\n",
    "conditions = np.array(['bg-01','bg-02','cl-01','cl-02','nm-01','nm-02','nm-03','nm-04','nm-05','nm-06'])\n",
    "view = '090/'\n",
    "size = 100\n",
    "\n",
    "subjects = sorted(os.listdir(os.path.join(CASIA_dir, silhouettes_dir)))\n",
    "count = 0\n",
    "for subject in subjects:\n",
    "    print('Sujeto :', subject)\n",
    "    for condition in conditions:\n",
    "#     directory_sub = os.path.join(CASIA_dir, representation_dir, subject);\n",
    "#     if not os.path.exists(directory_sub):\n",
    "#         os.makedirs(directory_sub)\n",
    "#     for condition in conditions:\n",
    "#     directory_condition = os.path.join(CASIA_dir, representation_dir, subject, condition)\n",
    "#     if not os.path.exists(directory_condition):\n",
    "#     os.makedirs(directory_condition)\n",
    "\n",
    "        path = os.path.join(CASIA_dir, silhouettes_dir, subject, condition, view)\n",
    "        save_path = os.path.join(CASIA_dir, 'GEI/', f'{subject}_{condition}_{view[:-1]}.png')\n",
    "        GEI, _ = GEI_generator(path, size)\n",
    "        GEI[int(size*0.12):int(size*0.68),:] = 0\n",
    "        cv2.imwrite(save_path, GEI)\n",
    "\n",
    "        if cv2.waitKey(1) & 0xff==27:\n",
    "            break\n",
    "\n",
    "cv2.destroyAllWindows()"
   ]
  },
  {
   "cell_type": "code",
   "execution_count": 62,
   "metadata": {},
   "outputs": [
    {
     "data": {
      "text/plain": [
       "'/home/israel/Downloads/CASIA/GEI/003_nm-06_090/.png'"
      ]
     },
     "execution_count": 62,
     "metadata": {},
     "output_type": "execute_result"
    }
   ],
   "source": [
    "save_path"
   ]
  },
  {
   "cell_type": "markdown",
   "metadata": {
    "id": "MbGruUD1zl2H"
   },
   "source": [
    "PREPROCESSING"
   ]
  },
  {
   "cell_type": "code",
   "execution_count": 9,
   "metadata": {
    "colab": {
     "base_uri": "https://localhost:8080/"
    },
    "executionInfo": {
     "elapsed": 8682,
     "status": "ok",
     "timestamp": 1625334400047,
     "user": {
      "displayName": "Israel Raul Tiñini Alvarez",
      "photoUrl": "https://lh3.googleusercontent.com/a-/AOh14Ggcd153u0HTe59CG_9NBCbFMlk8FTzoquHvRypzUw=s64",
      "userId": "04740316190220229310"
     },
     "user_tz": 240
    },
    "id": "TsXN2fMRwh2k",
    "outputId": "ff0345da-8e86-427f-9b31-3cfe26370d6c"
   },
   "outputs": [
    {
     "name": "stdout",
     "output_type": "stream",
     "text": [
      "train_ : ['nm-01' 'nm-02' 'nm-03' 'nm-04']\n",
      "train_ data.dat->  (496, 10000)\n",
      "train_ data.dat->  (496,)\n",
      "test_nm_ : ['nm-05' 'nm-06']\n",
      "test_nm_ data.dat->  (248, 10000)\n",
      "test_nm_ data.dat->  (248,)\n",
      "test_cl_ : ['cl-01' 'cl-02']\n",
      "test_cl_ data.dat->  (248, 10000)\n",
      "test_cl_ data.dat->  (248,)\n",
      "test_bg_ : ['bg-01' 'bg-02']\n",
      "test_bg_ data.dat->  (248, 10000)\n",
      "test_bg_ data.dat->  (248,)\n"
     ]
    }
   ],
   "source": [
    "import numpy as np\n",
    "from numpy import ma\n",
    "from os import listdir\n",
    "import cv2\n",
    "import os\n",
    "from glob import glob\n",
    "import time\n",
    "# import skimage\n",
    "# from skimage import transform\n",
    "\n",
    "# Definomos la direccion de las imagenes\n",
    "# data_base = 'CASIA'\n",
    "# data_set = 'DatasetB' \n",
    "# directorio = 'silhouettes'\t\n",
    "\n",
    "train_ = np.array(['nm-01','nm-02','nm-03','nm-04'])\n",
    "test_nm_ = np.array(['nm-05','nm-06'])\n",
    "test_cl_ = np.array(['cl-01','cl-02'])\n",
    "test_bg_ = np.array(['bg-01','bg-02'])\n",
    "# view = '090'\t\n",
    "# formato = '.png'\n",
    "\n",
    "# slash='/'\n",
    "# location = data_base+slash+data_set+slash+directorio\n",
    "# subject = np.array([])\n",
    "# for cosa in range(1,125):\n",
    "#     subject = np.append(subject,str(cosa).zfill(3))\n",
    "# print(subject.shape)\n",
    "# print(subject)\n",
    "# # subject = subject[:60]\n",
    "\n",
    "# rango = 1\n",
    "# paso = 2\n",
    "# size = 100\n",
    "\n",
    "data = {}\n",
    "data[\"train_\"] = train_\n",
    "data[\"test_nm_\"] = test_nm_\n",
    "data[\"test_cl_\"] = test_cl_\n",
    "data[\"test_bg_\"] = test_bg_\n",
    "# print(data['train_'])\n",
    "for dset in data:\n",
    "    print(dset, ':',data[dset])\n",
    "    conditions = data[dset]\n",
    "    matriz = []\n",
    "    etiqueta = []\n",
    "# \tmatriz = np.zeros((len(subject)*len(condition)*rango,size*size))\n",
    "# \tetiqueta = np.zeros((len(subject)*len(condition)*rango,1))\n",
    "# \tc1 =0\n",
    "    for subject in subjects:\n",
    "        for condition in conditions:\n",
    "            GEI_path = os.path.join(CASIA_dir, 'GEI/', f'{subject}_{condition}_{view[:-1]}.png')\n",
    "            GEI = cv2.imread(GEI_path, 0)\n",
    "            matriz.append(GEI.flatten())\n",
    "            etiqueta.append(int(subject))\n",
    "            \n",
    "# \tfor j in range(len(subject)):\n",
    "# \t\tfor i in range(len(condition)):\n",
    "# \t\t\t# Definimos el nombre de la imagen\n",
    "# \t\t\tslash='_'\n",
    "# \t\t\tsave_sil = 'GEI/'+data_base+slash+data_set+slash+directorio+slash+subject[j]+slash+condition[i]+slash+view+formato\n",
    "# \t\t\timg = cv2.imread(save_sil,0)\n",
    "\n",
    "\n",
    "\n",
    "# \t\t\tmatriz[c1,:] = img.flatten()[np.newaxis]\n",
    "# \t\t\tetiqueta[c1] = int(subject[j])\n",
    "\n",
    "# \t\t\tc1 +=1\n",
    "\t\t\t# cv2.imshow('frame',imgr)\n",
    "            if cv2.waitKey(1) & 0xff==27:\n",
    "                break\n",
    "\n",
    "    # matriz = matriz/255\n",
    "    matriz = np.array(matriz)\n",
    "    etiqueta = np.array(etiqueta)\n",
    "    np.savetxt('data_100_100/'+dset+'data.dat', matriz)\n",
    "    np.savetxt('data_100_100/'+dset+'target.dat', etiqueta)\n",
    "    print(dset,'data.dat-> ',matriz.shape)\n",
    "    print(dset,'data.dat-> ',etiqueta.shape)\n",
    "    # print(etiqueta)\n",
    "cv2.destroyAllWindows()"
   ]
  },
  {
   "cell_type": "code",
   "execution_count": 10,
   "metadata": {
    "colab": {
     "base_uri": "https://localhost:8080/"
    },
    "executionInfo": {
     "elapsed": 12976,
     "status": "ok",
     "timestamp": 1625334417946,
     "user": {
      "displayName": "Israel Raul Tiñini Alvarez",
      "photoUrl": "https://lh3.googleusercontent.com/a-/AOh14Ggcd153u0HTe59CG_9NBCbFMlk8FTzoquHvRypzUw=s64",
      "userId": "04740316190220229310"
     },
     "user_tz": 240
    },
    "id": "YWPz17xJzv57",
    "outputId": "4b45a730-5049-4f0b-b923-b0d780979669"
   },
   "outputs": [
    {
     "name": "stdout",
     "output_type": "stream",
     "text": [
      "Max:  255.0  min:  0.0\n",
      "Entrenamiento data:  (496, 10000)\n",
      "Max:  22.24859546128735  min:  -19.0622296732048\n",
      "Entrenamiento target:  (496,)\n",
      "Componentes Original :  10000 \n",
      "Componentes PCA:  487 \n",
      "Preservando:  99.99\n",
      "Dataset: Train  shape test:  (496, 487)  correcto:  1.0\n",
      "Dataset:  test_nm_  shape test:  (248, 487)  correcto:  0.9597\n",
      "Dataset:  test_bg_  shape test:  (248, 487)  correcto:  0.8266\n",
      "Dataset:  test_cl_  shape test:  (248, 487)  correcto:  0.8347\n"
     ]
    }
   ],
   "source": [
    "import numpy as np\n",
    "import sklearn\n",
    "from sklearn.preprocessing import StandardScaler\n",
    "from sklearn.decomposition import PCA\n",
    "from sklearn.linear_model import LogisticRegression\n",
    "from sklearn.metrics import confusion_matrix\n",
    "from sklearn.discriminant_analysis import LinearDiscriminantAnalysis\n",
    "from sklearn.neighbors import KNeighborsClassifier\n",
    "from sklearn.svm import SVC\n",
    "from sklearn import svm\n",
    "\n",
    "\n",
    "def normalizacion(data):\n",
    "\tu = np.mean(data,axis=0)\n",
    "\ts = np.std(data,axis=0)\n",
    "\tdata = (data - u)/s\n",
    "\treturn (data,u,s)\n",
    "def normalizacion2(data,u,s):\n",
    "\tdata = (data - u) / s\n",
    "\treturn data\n",
    "\n",
    "# Cargamos la base de datos\n",
    "if(0):\n",
    "\tcarpeta = 'A/data/'\n",
    "else:\n",
    "\tcarpeta = 'data_100_100/'\n",
    "trainX = np.loadtxt(carpeta+'train_data.dat')\n",
    "print('Max: ',trainX.max(),' min: ',trainX.min())\n",
    "\n",
    "# Escalamos los datos\n",
    "scaler = StandardScaler()\n",
    "scaler.fit(trainX)\n",
    "trainX = scaler.transform(trainX)\n",
    "# trainX,mean,st = normalizacion(trainX)\n",
    "\n",
    "\n",
    "print('Entrenamiento data: ',trainX.shape)\n",
    "print('Max: ',trainX.max(),' min: ',trainX.min())\n",
    "\n",
    "trainY = np.loadtxt(carpeta+'train_target.dat')\n",
    "print('Entrenamiento target: ',trainY.shape)\n",
    "\n",
    "_ ,componentes_original = trainX.shape\n",
    "\n",
    "# Aplicamos PCA\n",
    "pre = 0.9999\n",
    "pca = PCA(pre)\n",
    "pca.fit(trainX)\n",
    "componentes_PCA = pca.n_components_\n",
    "print('Componentes Original : ',componentes_original,'\\nComponentes PCA: ',componentes_PCA, '\\nPreservando: ',pre*100)\n",
    "trainX = pca.transform(trainX)\n",
    "\n",
    "# lda = LinearDiscriminantAnalysis(n_components=60,solver='eigen')\n",
    "# trainX = lda.fit(trainX, trainY).transform(trainX)\n",
    "\n",
    "# Declaramos el modelo y lo ajustamos\n",
    "# logisticRegr = LogisticRegression(solver = 'lbfgs',C=0.1,tol=0.0000001)\n",
    "# logisticRegr = KNeighborsClassifier(n_neighbors=1)\n",
    "# logisticRegr = svm.SVC()\n",
    "logisticRegr = LinearDiscriminantAnalysis(solver = 'lsqr',shrinkage=0.2)\n",
    "logisticRegr.fit(trainX, trainY)\n",
    "\n",
    "\n",
    "# Calculamos su score\n",
    "score = logisticRegr.score(trainX, trainY)\n",
    "print('Dataset: Train',' shape test: ',trainX.shape,' correcto: ',np.round(score,4))\n",
    "# Realizamos pruebas en los datasets de testeo\n",
    "datasets = np.array(['test_nm_','test_bg_','test_cl_'])\n",
    "for i in range(len(datasets)):\n",
    "\ttestX = np.loadtxt(carpeta+datasets[i]+'data.dat')\n",
    "\ttestX = scaler.transform(testX)\n",
    "\t# testX = normalizacion2(testX,mean,st)\n",
    "\ttestX = pca.transform(testX)\n",
    "\ttestY = np.loadtxt(carpeta+datasets[i]+'target.dat')\n",
    "\t\n",
    "\t# Calculamos su score\n",
    "\tscore = logisticRegr.score(testX, testY)\n",
    "\tcerteza = logisticRegr.predict(testX)\n",
    "\n",
    "\t# Mostramos la matriz de confusion\n",
    "\t# print(confusion_matrix(certeza,testY))\n",
    "\tprint('Dataset: ',datasets[i],' shape test: ',testX.shape,' correcto: ',np.round(score,4))\n",
    "\n",
    "\n",
    "# Guardamos el modelo entrenado\n",
    "# from sklearn.externals import joblib\n",
    "# joblib.dump(logisticRegr, 'LR.pkl') \n",
    "# joblib.dump(pca, 'pca.pkl') \n",
    "# joblib.dump(scaler, 'scaler.pkl') "
   ]
  },
  {
   "cell_type": "code",
   "execution_count": 11,
   "metadata": {
    "executionInfo": {
     "elapsed": 390,
     "status": "ok",
     "timestamp": 1625336607700,
     "user": {
      "displayName": "Israel Raul Tiñini Alvarez",
      "photoUrl": "https://lh3.googleusercontent.com/a-/AOh14Ggcd153u0HTe59CG_9NBCbFMlk8FTzoquHvRypzUw=s64",
      "userId": "04740316190220229310"
     },
     "user_tz": 240
    },
    "id": "2Aui5SzV0zrC"
   },
   "outputs": [],
   "source": [
    "from pickle import dump"
   ]
  },
  {
   "cell_type": "code",
   "execution_count": 12,
   "metadata": {
    "executionInfo": {
     "elapsed": 296,
     "status": "ok",
     "timestamp": 1625338720174,
     "user": {
      "displayName": "Israel Raul Tiñini Alvarez",
      "photoUrl": "https://lh3.googleusercontent.com/a-/AOh14Ggcd153u0HTe59CG_9NBCbFMlk8FTzoquHvRypzUw=s64",
      "userId": "04740316190220229310"
     },
     "user_tz": 240
    },
    "id": "6whjhW4LvHr6"
   },
   "outputs": [],
   "source": [
    "dump(scaler, open('CASIA_scaler.pkl', 'wb'))\n",
    "dump(pca, open('CASIA_pca.pkl', 'wb'))\n",
    "dump(logisticRegr, open('CASIA_model.pkl', 'wb'))"
   ]
  },
  {
   "cell_type": "code",
   "execution_count": 17,
   "metadata": {
    "executionInfo": {
     "elapsed": 381,
     "status": "ok",
     "timestamp": 1625336620901,
     "user": {
      "displayName": "Israel Raul Tiñini Alvarez",
      "photoUrl": "https://lh3.googleusercontent.com/a-/AOh14Ggcd153u0HTe59CG_9NBCbFMlk8FTzoquHvRypzUw=s64",
      "userId": "04740316190220229310"
     },
     "user_tz": 240
    },
    "id": "ep9TL-CtHaT5"
   },
   "outputs": [],
   "source": []
  },
  {
   "cell_type": "markdown",
   "metadata": {
    "executionInfo": {
     "elapsed": 301,
     "status": "ok",
     "timestamp": 1625336700383,
     "user": {
      "displayName": "Israel Raul Tiñini Alvarez",
      "photoUrl": "https://lh3.googleusercontent.com/a-/AOh14Ggcd153u0HTe59CG_9NBCbFMlk8FTzoquHvRypzUw=s64",
      "userId": "04740316190220229310"
     },
     "user_tz": 240
    },
    "id": "5vKTtGg8nKPn"
   },
   "source": [
    "Lets join multiple subjects to test in the OAK-D"
   ]
  },
  {
   "cell_type": "code",
   "execution_count": 7,
   "metadata": {},
   "outputs": [],
   "source": [
    "import cv2\n",
    "import numpy as np\n",
    "import os"
   ]
  },
  {
   "cell_type": "code",
   "execution_count": 19,
   "metadata": {
    "executionInfo": {
     "elapsed": 2252,
     "status": "ok",
     "timestamp": 1625338865917,
     "user": {
      "displayName": "Israel Raul Tiñini Alvarez",
      "photoUrl": "https://lh3.googleusercontent.com/a-/AOh14Ggcd153u0HTe59CG_9NBCbFMlk8FTzoquHvRypzUw=s64",
      "userId": "04740316190220229310"
     },
     "user_tz": 240
    },
    "id": "vvCTC9dxndrc"
   },
   "outputs": [],
   "source": [
    "partA = 'DatasetB-1/'\n",
    "partB = 'DatasetB-2/silhouettes/'\n",
    "silhouettes_dir = 'silhouettes/'\n",
    "# define the path of CASIA directory\n",
    "CASIA_dir = '/home/israel/Downloads/CASIA/'\n",
    "videos_dir = 'video/'\n",
    "view = '090'\n",
    "conditions = ['nm-05', 'nm-06']\n",
    "out_inf = None"
   ]
  },
  {
   "cell_type": "code",
   "execution_count": 36,
   "metadata": {},
   "outputs": [],
   "source": [
    "cap = cv2.VideoCapture('/home/israel/Downloads/CASIA/DatasetB-1/video/001-nm-05-090.avi')\n",
    "clip_name = 'nm_1-30_cond.avi'\n",
    "codec = cv2.VideoWriter_fourcc(*'XVID')\n",
    "fwidth = int(cap.get(cv2.CAP_PROP_FRAME_WIDTH))\n",
    "fheight = int(cap.get(cv2.CAP_PROP_FRAME_HEIGHT))\n",
    "fps = int(cap.get(cv2.CAP_PROP_FPS))\n",
    "out = cv2.VideoWriter(clip_name, codec, fps, (fwidth, fheight))"
   ]
  },
  {
   "cell_type": "code",
   "execution_count": 37,
   "metadata": {
    "colab": {
     "base_uri": "https://localhost:8080/"
    },
    "executionInfo": {
     "elapsed": 5,
     "status": "ok",
     "timestamp": 1625339244944,
     "user": {
      "displayName": "Israel Raul Tiñini Alvarez",
      "photoUrl": "https://lh3.googleusercontent.com/a-/AOh14Ggcd153u0HTe59CG_9NBCbFMlk8FTzoquHvRypzUw=s64",
      "userId": "04740316190220229310"
     },
     "user_tz": 240
    },
    "id": "neJoiPL6vsLy",
    "outputId": "a39d7a2a-aee3-43c7-d799-8453a4e3bd3e"
   },
   "outputs": [
    {
     "name": "stdout",
     "output_type": "stream",
     "text": [
      "/home/israel/Downloads/CASIA/DatasetB-1/video/001-nm-05-090.avi\n",
      "/home/israel/Downloads/CASIA/DatasetB-1/video/001-nm-06-090.avi\n",
      "/home/israel/Downloads/CASIA/DatasetB-1/video/002-nm-05-090.avi\n",
      "/home/israel/Downloads/CASIA/DatasetB-1/video/002-nm-06-090.avi\n",
      "/home/israel/Downloads/CASIA/DatasetB-1/video/003-nm-05-090.avi\n",
      "/home/israel/Downloads/CASIA/DatasetB-1/video/003-nm-06-090.avi\n",
      "/home/israel/Downloads/CASIA/DatasetB-1/video/004-nm-05-090.avi\n",
      "/home/israel/Downloads/CASIA/DatasetB-1/video/004-nm-06-090.avi\n",
      "/home/israel/Downloads/CASIA/DatasetB-1/video/005-nm-05-090.avi\n",
      "/home/israel/Downloads/CASIA/DatasetB-1/video/005-nm-06-090.avi\n",
      "/home/israel/Downloads/CASIA/DatasetB-1/video/006-nm-05-090.avi\n",
      "/home/israel/Downloads/CASIA/DatasetB-1/video/006-nm-06-090.avi\n",
      "/home/israel/Downloads/CASIA/DatasetB-1/video/007-nm-05-090.avi\n",
      "/home/israel/Downloads/CASIA/DatasetB-1/video/007-nm-06-090.avi\n",
      "/home/israel/Downloads/CASIA/DatasetB-1/video/008-nm-05-090.avi\n",
      "/home/israel/Downloads/CASIA/DatasetB-1/video/008-nm-06-090.avi\n",
      "/home/israel/Downloads/CASIA/DatasetB-1/video/009-nm-05-090.avi\n",
      "/home/israel/Downloads/CASIA/DatasetB-1/video/009-nm-06-090.avi\n",
      "/home/israel/Downloads/CASIA/DatasetB-1/video/010-nm-05-090.avi\n",
      "/home/israel/Downloads/CASIA/DatasetB-1/video/010-nm-06-090.avi\n",
      "/home/israel/Downloads/CASIA/DatasetB-1/video/011-nm-05-090.avi\n",
      "/home/israel/Downloads/CASIA/DatasetB-1/video/011-nm-06-090.avi\n",
      "/home/israel/Downloads/CASIA/DatasetB-1/video/012-nm-05-090.avi\n",
      "/home/israel/Downloads/CASIA/DatasetB-1/video/012-nm-06-090.avi\n",
      "/home/israel/Downloads/CASIA/DatasetB-1/video/013-nm-05-090.avi\n",
      "/home/israel/Downloads/CASIA/DatasetB-1/video/013-nm-06-090.avi\n",
      "/home/israel/Downloads/CASIA/DatasetB-1/video/014-nm-05-090.avi\n",
      "/home/israel/Downloads/CASIA/DatasetB-1/video/014-nm-06-090.avi\n",
      "/home/israel/Downloads/CASIA/DatasetB-1/video/015-nm-05-090.avi\n",
      "/home/israel/Downloads/CASIA/DatasetB-1/video/015-nm-06-090.avi\n",
      "/home/israel/Downloads/CASIA/DatasetB-1/video/016-nm-05-090.avi\n",
      "/home/israel/Downloads/CASIA/DatasetB-1/video/016-nm-06-090.avi\n",
      "/home/israel/Downloads/CASIA/DatasetB-1/video/017-nm-05-090.avi\n",
      "/home/israel/Downloads/CASIA/DatasetB-1/video/017-nm-06-090.avi\n",
      "/home/israel/Downloads/CASIA/DatasetB-1/video/018-nm-05-090.avi\n",
      "/home/israel/Downloads/CASIA/DatasetB-1/video/018-nm-06-090.avi\n",
      "/home/israel/Downloads/CASIA/DatasetB-1/video/019-nm-05-090.avi\n",
      "/home/israel/Downloads/CASIA/DatasetB-1/video/019-nm-06-090.avi\n",
      "/home/israel/Downloads/CASIA/DatasetB-1/video/020-nm-05-090.avi\n",
      "/home/israel/Downloads/CASIA/DatasetB-1/video/020-nm-06-090.avi\n",
      "/home/israel/Downloads/CASIA/DatasetB-1/video/021-nm-05-090.avi\n",
      "/home/israel/Downloads/CASIA/DatasetB-1/video/021-nm-06-090.avi\n",
      "/home/israel/Downloads/CASIA/DatasetB-1/video/022-nm-05-090.avi\n",
      "/home/israel/Downloads/CASIA/DatasetB-1/video/022-nm-06-090.avi\n",
      "/home/israel/Downloads/CASIA/DatasetB-1/video/023-nm-05-090.avi\n",
      "/home/israel/Downloads/CASIA/DatasetB-1/video/023-nm-06-090.avi\n",
      "/home/israel/Downloads/CASIA/DatasetB-1/video/024-nm-05-090.avi\n",
      "/home/israel/Downloads/CASIA/DatasetB-1/video/024-nm-06-090.avi\n",
      "/home/israel/Downloads/CASIA/DatasetB-1/video/025-nm-05-090.avi\n",
      "/home/israel/Downloads/CASIA/DatasetB-1/video/025-nm-06-090.avi\n",
      "/home/israel/Downloads/CASIA/DatasetB-1/video/026-nm-05-090.avi\n",
      "/home/israel/Downloads/CASIA/DatasetB-1/video/026-nm-06-090.avi\n",
      "/home/israel/Downloads/CASIA/DatasetB-1/video/027-nm-05-090.avi\n",
      "/home/israel/Downloads/CASIA/DatasetB-1/video/027-nm-06-090.avi\n",
      "/home/israel/Downloads/CASIA/DatasetB-1/video/028-nm-05-090.avi\n",
      "/home/israel/Downloads/CASIA/DatasetB-1/video/028-nm-06-090.avi\n",
      "/home/israel/Downloads/CASIA/DatasetB-1/video/029-nm-05-090.avi\n",
      "/home/israel/Downloads/CASIA/DatasetB-1/video/029-nm-06-090.avi\n"
     ]
    }
   ],
   "source": [
    "for subject in range(1, 30):\n",
    "    for condition in conditions:\n",
    "        part = partA if subject<63 else partB\n",
    "        path = os.path.join(CASIA_dir, part, videos_dir, f'{str(subject).zfill(3)}-{condition}-{view}.avi')\n",
    "        print(path)\n",
    "        cap = cv2.VideoCapture(path)\n",
    "        ret = True\n",
    "        while(ret):\n",
    "            ret, frame = cap.read()\n",
    "            if ret:\n",
    "                out.write(frame)\n",
    "#                 cv2.imshow('out',frame)\n",
    "                if cv2.waitKey(1) == ord('q'):\n",
    "                    break\n",
    "        white = (np.ones((fheight, fwidth, 3))*255).astype('uint8')\n",
    "        for i in range(5):\n",
    "            out.write(white)\n",
    "        cap.release()\n",
    "        cv2.destroyAllWindows()\n",
    "out.release()   \n"
   ]
  },
  {
   "cell_type": "markdown",
   "metadata": {},
   "source": [
    "frame"
   ]
  },
  {
   "cell_type": "raw",
   "metadata": {
    "id": "2wdw9bS6vwGE"
   },
   "source": [
    "frame"
   ]
  },
  {
   "cell_type": "code",
   "execution_count": 78,
   "metadata": {},
   "outputs": [
    {
     "data": {
      "text/plain": [
       "(240, 320, 3)"
      ]
     },
     "execution_count": 78,
     "metadata": {},
     "output_type": "execute_result"
    }
   ],
   "source": [
    "frame.shape"
   ]
  },
  {
   "cell_type": "raw",
   "metadata": {},
   "source": [
    "out.write(frame)"
   ]
  },
  {
   "cell_type": "code",
   "execution_count": 11,
   "metadata": {},
   "outputs": [
    {
     "data": {
      "text/plain": [
       "(240, 320, 3)"
      ]
     },
     "execution_count": 11,
     "metadata": {},
     "output_type": "execute_result"
    }
   ],
   "source": [
    "white.shape"
   ]
  },
  {
   "cell_type": "code",
   "execution_count": 53,
   "metadata": {},
   "outputs": [],
   "source": [
    "targets = []\n",
    "for i in range(1,30):\n",
    "    targets.append(i)\n",
    "    targets.append(i)"
   ]
  },
  {
   "cell_type": "code",
   "execution_count": 51,
   "metadata": {},
   "outputs": [],
   "source": [
    "oak_pred = [[57, 1, 1, 1], [77, 1, 1, 1], [81, 56, 17, 2, 2], [51, 51, 2, 2], [87, 3, 3, 3], [93, 3, 3, 3], [4, 4, 4, 4, 4], [14, 4, 4, 4, 4], [33, 33, 33, 33, 33, 33, 33, 33, 33, 33, 33, 33, 33, 123, 30, 57, 57, 57, 57, 57], [33, 33, 33, 48, 48, 83, 83, 83, 83, 83], [120, 124, 6], [86, 6, 6], [97, 7, 7], [7, 7, 7], [8, 8, 8, 8], [8, 8, 8, 8], [81, 9, 9, 9], [93, 67, 67, 67], [123, 123, 123, 123], [51, 51, 123, 123], [30, 73, 73, 11], [30, 11, 11, 11], [12, 12, 12], [12, 12, 12, 12], [93, 61, 93, 93, 93], [26, 99, 81, 28, 28], [14, 14, 14, 14, 14], [14, 14, 14, 14, 14], [34, 47, 47, 94], [30, 30, 117, 117], [65, 123, 123, 123], [123, 123, 123], [29, 17, 17, 17], [81, 17, 17, 17], [20, 44, 18], [30, 18, 18], [19, 19, 19], [110, 19, 66], [96, 96, 96, 96], [96, 96, 96], [21, 48, 48, 21], [21, 48, 48], [22, 22, 22, 22], [22, 22, 22, 22], [51, 33, 33, 33], [51, 33, 33, 33], [57, 24, 24, 24, 24], [26, 26, 57, 24, 24], [14, 93, 87, 25], [93, 25, 25, 25], [117, 30, 26, 26], [30, 26, 26, 26], [30, 30, 30, 30, 30], [96, 30, 30, 30], [101, 123, 123, 123, 123], [123, 123, 123, 123], [110, 29, 29, 29], [29, 29, 29, 29]]"
   ]
  },
  {
   "cell_type": "code",
   "execution_count": 54,
   "metadata": {},
   "outputs": [],
   "source": [
    "oak_pred = [[1, 1, 1, 1], [63, 1, 1, 1], [99, 99, 84, 56, 99], [87, 2, 2, 2], [115, 93, 3, 3], [120, 38, 38, 3], [73, 51, 4, 4, 4], [73, 51, 4, 4, 4], [33, 33, 33, 33, 33, 33, 33, 33, 33, 33, 33, 33, 33, 123, 123, 123, 123, 123, 123, 123], [33, 33, 33, 88, 73, 73, 73, 73, 73, 73], [99, 35, 6], [105, 114, 6], [7, 7, 7], [97, 7, 7], [110, 110, 110, 8], [55, 110, 8, 8], [81, 9, 9, 9], [81, 38, 38, 38], [51, 51, 10, 10], [55, 110, 110, 110], [11, 11, 11, 11], [11, 11, 11, 11], [55, 12, 12], [55, 55, 12, 12], [26, 61, 61, 93, 93], [26, 99, 93, 28, 28], [87, 14, 14, 14, 14], [87, 14, 14, 14, 14], [34, 94, 94, 94], [30, 30, 73, 94], [65, 55, 99, 107], [61, 99, 56], [110, 38, 38, 17], [81, 99, 17, 17], [102, 18, 18], [30, 18, 18], [19, 19, 19], [81, 19, 6], [96, 96, 96, 96], [96, 96, 96], [82, 48, 48, 48], [51, 48, 48], [55, 22, 104, 100], [61, 61, 22, 104], [93, 93, 23, 23], [93, 93, 93, 23], [30, 26, 26, 24, 24], [30, 30, 26, 26, 24], [14, 93, 14, 56], [87, 98, 25, 25], [30, 26, 26, 26], [30, 26, 26, 26], [30, 30, 30, 30, 30], [30, 30, 30, 30], [101, 101, 28, 28, 28], [113, 28, 28, 28], [29, 29, 29, 14], [110, 110, 110, 14]]"
   ]
  },
  {
   "cell_type": "code",
   "execution_count": 55,
   "metadata": {},
   "outputs": [
    {
     "name": "stdout",
     "output_type": "stream",
     "text": [
      "0.6724137931034483\n"
     ]
    }
   ],
   "source": [
    "acc = 0\n",
    "corrects = 0\n",
    "samples = len(targets)\n",
    "for target, pred in zip(targets, oak_pred):\n",
    "    if (target in pred):\n",
    "        corrects +=1\n",
    "print(corrects/samples)"
   ]
  },
  {
   "cell_type": "code",
   "execution_count": null,
   "metadata": {},
   "outputs": [],
   "source": []
  }
 ],
 "metadata": {
  "colab": {
   "collapsed_sections": [],
   "name": "GaitV1.ipynb",
   "provenance": [
    {
     "file_id": "1x9kk-RZMBt36giJHo8D8yox5AQF19duc",
     "timestamp": 1560223591409
    }
   ]
  },
  "kernelspec": {
   "display_name": "Python 3 (ipykernel)",
   "language": "python",
   "name": "python3"
  },
  "language_info": {
   "codemirror_mode": {
    "name": "ipython",
    "version": 3
   },
   "file_extension": ".py",
   "mimetype": "text/x-python",
   "name": "python",
   "nbconvert_exporter": "python",
   "pygments_lexer": "ipython3",
   "version": "3.8.10"
  }
 },
 "nbformat": 4,
 "nbformat_minor": 4
}
